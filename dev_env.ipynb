{
 "cells": [
  {
   "cell_type": "markdown",
   "metadata": {
    "slideshow": {
     "slide_type": "slide"
    }
   },
   "source": [
    "# 建立開發環境\n",
    "\n",
    "## Pyradise"
   ]
  },
  {
   "cell_type": "markdown",
   "metadata": {
    "slideshow": {
     "slide_type": "slide"
    }
   },
   "source": [
    "## 直接在瀏覽器使用\n",
    "\n",
    "- [Google Colaboratory](https://colab.research.google.com/)\n",
    "- [Project Jupyter](http://jupyter.org/)"
   ]
  },
  {
   "cell_type": "markdown",
   "metadata": {
    "slideshow": {
     "slide_type": "slide"
    }
   },
   "source": [
    "## 在自己電腦建立開發環境\n",
    "\n",
    "- 安裝 Anaconda\n",
    "- [Anaconda](https://www.continuum.io/downloads)\n",
    "- 選擇 Python 3.6 Version"
   ]
  },
  {
   "cell_type": "markdown",
   "metadata": {
    "slideshow": {
     "slide_type": "subslide"
    }
   },
   "source": [
    "## 安裝 Anaconda（2）\n",
    "\n",
    "- 我為什麼推薦直接使用 [Anaconda](https://www.continuum.io/downloads)？\n",
    "    - 有主程式 Python\n",
    "    - 有編輯器 Jupyter Notebook\n",
    "    - 有套件與環境管理工具 conda"
   ]
  },
  {
   "cell_type": "markdown",
   "metadata": {
    "slideshow": {
     "slide_type": "subslide"
    }
   },
   "source": [
    "## 安裝 Anaconda（3）\n",
    "\n",
    "- 注意事項\n",
    "    - 將 Python 加入路徑變數\n",
    "    - 或者使用 Anaconda Prompt"
   ]
  },
  {
   "cell_type": "markdown",
   "metadata": {
    "slideshow": {
     "slide_type": "slide"
    }
   },
   "source": [
    "## 啟動 Jupyter Notebook\n",
    "\n",
    "- 在命令列輸入\n",
    "\n",
    "```\n",
    "$ jupyter notebook\n",
    "```\n",
    "\n",
    "- 新增一個 Notebook\n",
    "\n",
    "![day0102](https://storage.googleapis.com/2017_ithome_ironman/day0102.png)"
   ]
  },
  {
   "cell_type": "markdown",
   "metadata": {
    "slideshow": {
     "slide_type": "slide"
    }
   },
   "source": [
    "## 建立適當的虛擬環境\n",
    "\n",
    "- 為了避免套件版本衝突，可以建立資源隔絕的虛擬環境\n",
    "\n",
    "```bash\n",
    "conda create -n pyscraper python=3\n",
    "activate pyscraper # mac user: source activate pyscraper\n",
    "pip install pyquery selenium ipykernel\n",
    "```"
   ]
  },
  {
   "cell_type": "markdown",
   "metadata": {
    "slideshow": {
     "slide_type": "subslide"
    }
   },
   "source": [
    "## 建立對應虛擬環境的 Kernel\n",
    "\n",
    "- 連結 Jupyter Notebook 與虛擬環境\n",
    "\n",
    "```bash\n",
    "python -m ipykernel install --user --name pyscraper --display-name \"pyscraper\"\n",
    "```"
   ]
  },
  {
   "cell_type": "markdown",
   "metadata": {
    "slideshow": {
     "slide_type": "subslide"
    }
   },
   "source": [
    "## 新增一個 pyscraper 的 Notebook\n",
    "\n",
    "![](https://storage.googleapis.com/py_ml_images/env_kernel.png)"
   ]
  },
  {
   "cell_type": "markdown",
   "metadata": {
    "slideshow": {
     "slide_type": "slide"
    }
   },
   "source": [
    "## 移除 Kernel\n",
    "\n",
    "```bash\n",
    "jupyter kernelspec list\n",
    "jupyter kernelspec remove pyscraper\n",
    "```"
   ]
  },
  {
   "cell_type": "markdown",
   "metadata": {
    "slideshow": {
     "slide_type": "subslide"
    }
   },
   "source": [
    "## 移除虛擬環境\n",
    "\n",
    "```bash\n",
    "(source) deactivate\n",
    "conda env list\n",
    "conda remove --name pyscraper --all\n",
    "```"
   ]
  },
  {
   "cell_type": "markdown",
   "metadata": {
    "slideshow": {
     "slide_type": "subslide"
    }
   },
   "source": [
    "## 隨堂練習\n",
    "\n",
    "自行操作一次新增虛擬環境與 Kernel"
   ]
  }
 ],
 "metadata": {
  "celltoolbar": "Slideshow",
  "kernelspec": {
   "display_name": "Python 3",
   "language": "python",
   "name": "python3"
  },
  "language_info": {
   "codemirror_mode": {
    "name": "ipython",
    "version": 3
   },
   "file_extension": ".py",
   "mimetype": "text/x-python",
   "name": "python",
   "nbconvert_exporter": "python",
   "pygments_lexer": "ipython3",
   "version": "3.6.0"
  }
 },
 "nbformat": 4,
 "nbformat_minor": 1
}
